{
  "cells": [
    {
      "cell_type": "markdown",
      "metadata": {
        "id": "WGCshzUrcrwG"
      },
      "source": [
        "\n",
        "# ConvNeXtBase기반 모델 실험 (Colab)\n"
      ]
    },
    {
      "cell_type": "code",
      "execution_count": 3,
      "metadata": {
        "id": "OgAQj8ajckk-"
      },
      "outputs": [],
      "source": [
        "import matplotlib.pyplot as plt\n",
        "from matplotlib.image import imread\n",
        "import tensorflow as tf\n",
        "import keras\n",
        "from tensorflow.keras import layers, models\n",
        "from tensorflow import keras\n",
        "from tensorflow.keras.losses import BinaryCrossentropy\n",
        "from tensorflow.keras.models import Sequential\n",
        "from tensorflow.keras.applications import ConvNeXtBase # 이 부분을 원하는 모델로 바꾸기\n",
        "import splitfolders\n",
        "import pandas as pd\n",
        "from tensorflow.python.client import device_lib\n",
        "import os"
      ]
    },
    {
      "cell_type": "code",
      "execution_count": 2,
      "metadata": {
        "colab": {
          "base_uri": "https://localhost:8080/",
          "height": 0
        },
        "id": "c_ZC4ZA7KN0p",
        "outputId": "da5da93b-86e6-434e-a3b2-f090b35f58da"
      },
      "outputs": [
        {
          "name": "stdout",
          "output_type": "stream",
          "text": [
            "Collecting split-folders\n",
            "  Downloading split_folders-0.5.1-py3-none-any.whl (8.4 kB)\n",
            "Installing collected packages: split-folders\n",
            "Successfully installed split-folders-0.5.1\n"
          ]
        }
      ],
      "source": [
        "!pip install split-folders"
      ]
    },
    {
      "cell_type": "code",
      "execution_count": 4,
      "metadata": {
        "colab": {
          "base_uri": "https://localhost:8080/",
          "height": 0
        },
        "id": "3myP88nPdUlp",
        "outputId": "6dc96425-d69d-476f-b18a-2743e2cd852c"
      },
      "outputs": [
        {
          "name": "stdout",
          "output_type": "stream",
          "text": [
            "Mounted at /content/drive\n"
          ]
        }
      ],
      "source": [
        "# 구글 코랩 드라이브와 마운트\n",
        "from google.colab import drive\n",
        "drive.mount('/content/drive')"
      ]
    },
    {
      "cell_type": "code",
      "execution_count": null,
      "metadata": {
        "id": "f9mdYiJMaVwE"
      },
      "outputs": [],
      "source": [
        "#gpu 구동. 이후에 키면 모든걸 다 gpu를 사용하니 참고할 것. 끄려면 0 >> -1로 바꾸자\n",
        "os.environ[\"CUDA_VISIBLE_DEVICES\"] = \"0\""
      ]
    },
    {
      "cell_type": "code",
      "execution_count": 5,
      "metadata": {
        "colab": {
          "base_uri": "https://localhost:8080/",
          "height": 0
        },
        "id": "U8nDMNodwd4n",
        "outputId": "b795e345-62f9-4eb7-82d0-c4afb7265162"
      },
      "outputs": [
        {
          "name": "stderr",
          "output_type": "stream",
          "text": [
            "Copying files: 3248 files [24:06,  2.25 files/s]\n"
          ]
        }
      ],
      "source": [
        "# data_dir = '/content/drive/MyDrive/3_1_data/dataset' << 코랩 사용시 해당 경로를 참고하자\n",
        "\n",
        "# 입력 폴더 경로\n",
        "input_folder = '/content/drive/MyDrive/dataset'  # 이미지 데이터가 있는 폴더 경로\n",
        "#단체코랩 실행 시 혹은 로컬에서 진행 시 개인 사정에 맞출 것\n",
        "\n",
        "# 출력 폴더 경로 설정 및 분할 비율 설정\n",
        "output_folder = '/content/drive/MyDrive/dataset_output'  # 분할된 데이터가 저장될 폴더 경로\n",
        "#단체코랩 실행 시 혹은 로컬에서 진행 시 개인 사정에 맞출 것\n",
        "\n",
        "splitfolders.ratio(input_folder, output=output_folder, seed=42, ratio=(0.6, 0.2, 0.2))"
      ]
    },
    {
      "cell_type": "code",
      "execution_count": 6,
      "metadata": {
        "id": "0q6zrZy4d3sV"
      },
      "outputs": [],
      "source": [
        "data_dir = '/content/drive/MyDrive/dataset_output'# train, val, test가 저장된 아웃풋 데이터 경로\n",
        "train_dir = data_dir + '/train'\n",
        "val_dir = data_dir + '/val'\n",
        "test_dir = data_dir + '/test'"
      ]
    },
    {
      "cell_type": "code",
      "execution_count": 7,
      "metadata": {
        "colab": {
          "base_uri": "https://localhost:8080/",
          "height": 0
        },
        "id": "DMLHsxwddX-g",
        "outputId": "bedaf3f5-0341-403a-de5e-49a2ba641cb2"
      },
      "outputs": [
        {
          "name": "stderr",
          "output_type": "stream",
          "text": [
            "/usr/local/lib/python3.10/dist-packages/keras/src/preprocessing/image.py:1460: UserWarning: This ImageDataGenerator specifies `featurewise_std_normalization`, which overrides setting of `featurewise_center`.\n",
            "  warnings.warn(\n",
            "/usr/local/lib/python3.10/dist-packages/keras/src/preprocessing/image.py:1469: UserWarning: This ImageDataGenerator specifies `samplewise_std_normalization`, which overrides setting of `samplewise_center`.\n",
            "  warnings.warn(\n"
          ]
        }
      ],
      "source": [
        "img_gen = tf.keras.preprocessing.image.ImageDataGenerator(\n",
        "    rescale=1./255, #수평 augmentation, 정규화\n",
        "    featurewise_std_normalization=True,\n",
        "    samplewise_std_normalization=True,\n",
        "    horizontal_flip=True,\n",
        "    validation_split=0.2)"
      ]
    },
    {
      "cell_type": "code",
      "execution_count": 8,
      "metadata": {
        "colab": {
          "base_uri": "https://localhost:8080/",
          "height": 0
        },
        "id": "w2BQNc-Ud-o4",
        "outputId": "684a003a-e12a-4192-a41b-4488da7f839d"
      },
      "outputs": [
        {
          "name": "stdout",
          "output_type": "stream",
          "text": [
            "Found 1559 images belonging to 2 classes.\n"
          ]
        }
      ],
      "source": [
        "train_ds = img_gen.flow_from_directory(directory=train_dir,\n",
        "                                       target_size=(224, 224),\n",
        "                                       class_mode='binary',\n",
        "                                       color_mode='rgb',\n",
        "                                       subset='training',\n",
        "                                       batch_size=64)"
      ]
    },
    {
      "cell_type": "code",
      "execution_count": 9,
      "metadata": {
        "colab": {
          "base_uri": "https://localhost:8080/",
          "height": 0
        },
        "id": "vJhmDTSyeCYh",
        "outputId": "f99d529a-779b-409e-ae8b-b7f5ed88a8a1"
      },
      "outputs": [
        {
          "name": "stdout",
          "output_type": "stream",
          "text": [
            "Found 519 images belonging to 2 classes.\n"
          ]
        }
      ],
      "source": [
        "val_ds = img_gen.flow_from_directory(directory=val_dir,\n",
        "                                     target_size=(224,224),\n",
        "                                     class_mode='binary',\n",
        "                                     color_mode='rgb',\n",
        "                                     subset='training',\n",
        "                                     batch_size=64)"
      ]
    },
    {
      "cell_type": "code",
      "execution_count": 10,
      "metadata": {
        "colab": {
          "base_uri": "https://localhost:8080/",
          "height": 0
        },
        "id": "Qc5heIT114HC",
        "outputId": "0b9da508-3fe1-4ff3-9cde-9732624aeb5c"
      },
      "outputs": [
        {
          "name": "stdout",
          "output_type": "stream",
          "text": [
            "Found 522 images belonging to 2 classes.\n"
          ]
        }
      ],
      "source": [
        "test_ds = img_gen.flow_from_directory(directory=test_dir,\n",
        "                                     target_size=(224,224),\n",
        "                                     class_mode='binary',\n",
        "                                     color_mode='rgb',\n",
        "                                     subset='training',\n",
        "                                     batch_size=64)"
      ]
    },
    {
      "cell_type": "code",
      "execution_count": 17,
      "metadata": {
        "id": "5Jm-azV6HRsB"
      },
      "outputs": [],
      "source": [
        "# 미리 학습된 모델을 불러오기 >> 이름 전부 다 바꿔야 함\n",
        "preprocess_input = tf.keras.applications.convnext.preprocess_input\n",
        "#텐서플로우 홈페이지를 참고해 해당 모델의 preprocess_input을 파악할 것\n",
        "#https://www.tensorflow.org/api_docs/python/tf/keras/applications/convnext/preprocess_input#args\n",
        "\n",
        "ConBase_model = ConvNeXtBase(weights='imagenet', include_top=False, input_shape=(224, 224, 3))\n",
        "\n",
        "ConBase_model.trainable = False #모델model freeszing (Dense만 사용하게끔!)"
      ]
    },
    {
      "cell_type": "code",
      "execution_count": null,
      "metadata": {},
      "outputs": [],
      "source": []
    },
    {
      "cell_type": "code",
      "execution_count": 18,
      "metadata": {
        "id": "4IAdgoomKB39"
      },
      "outputs": [],
      "source": [
        "global_average_layer = tf.keras.layers.GlobalAveragePooling2D()\n",
        "prediction_layer1 = layers.Dense(128, activation='relu')\n",
        "prediction_layer2 = layers.Dense(1, activation='sigmoid')"
      ]
    },
    {
      "cell_type": "code",
      "execution_count": 19,
      "metadata": {
        "id": "dbP4y6pBL-jM"
      },
      "outputs": [],
      "source": [
        "inputs = tf.keras.Input(shape=(224,224,3))\n",
        "x = preprocess_input(inputs)\n",
        "x = ConBase_model(x, training=False) # 위에서 설정한 모델명 변수명을 넣을 것\n",
        "x = global_average_layer(x)\n",
        "# outputs = prediction_layer1(x)\n",
        "outputs = prediction_layer2(x)\n",
        "model = tf.keras.Model(inputs, outputs)"
      ]
    },
    {
      "cell_type": "code",
      "execution_count": 20,
      "metadata": {
        "colab": {
          "base_uri": "https://localhost:8080/",
          "height": 0
        },
        "id": "pWMBnBPeWZSB",
        "outputId": "0e7d5042-dd06-4316-a3ec-e939af9f8df1"
      },
      "outputs": [
        {
          "name": "stdout",
          "output_type": "stream",
          "text": [
            "Model: \"model_1\"\n",
            "_________________________________________________________________\n",
            " Layer (type)                Output Shape              Param #   \n",
            "=================================================================\n",
            " input_5 (InputLayer)        [(None, 224, 224, 3)]     0         \n",
            "                                                                 \n",
            " convnext_base (Functional)  (None, 7, 7, 1024)        87566464  \n",
            "                                                                 \n",
            " global_average_pooling2d_1  (None, 1024)              0         \n",
            "  (GlobalAveragePooling2D)                                       \n",
            "                                                                 \n",
            " dense_3 (Dense)             (None, 1)                 1025      \n",
            "                                                                 \n",
            "=================================================================\n",
            "Total params: 87567489 (334.04 MB)\n",
            "Trainable params: 1025 (4.00 KB)\n",
            "Non-trainable params: 87566464 (334.04 MB)\n",
            "_________________________________________________________________\n"
          ]
        }
      ],
      "source": [
        "model.summary()"
      ]
    },
    {
      "cell_type": "code",
      "execution_count": 21,
      "metadata": {
        "colab": {
          "base_uri": "https://localhost:8080/",
          "height": 0
        },
        "id": "9iPnaQgveRHW",
        "outputId": "21070ae4-77e0-4e61-fe10-ef35e4a1f7aa"
      },
      "outputs": [
        {
          "name": "stdout",
          "output_type": "stream",
          "text": [
            "Model: \"model_1\"\n",
            "_________________________________________________________________\n",
            " Layer (type)                Output Shape              Param #   \n",
            "=================================================================\n",
            " input_5 (InputLayer)        [(None, 224, 224, 3)]     0         \n",
            "                                                                 \n",
            " convnext_base (Functional)  (None, 7, 7, 1024)        87566464  \n",
            "                                                                 \n",
            " global_average_pooling2d_1  (None, 1024)              0         \n",
            "  (GlobalAveragePooling2D)                                       \n",
            "                                                                 \n",
            " dense_3 (Dense)             (None, 1)                 1025      \n",
            "                                                                 \n",
            "=================================================================\n",
            "Total params: 87567489 (334.04 MB)\n",
            "Trainable params: 1025 (4.00 KB)\n",
            "Non-trainable params: 87566464 (334.04 MB)\n",
            "_________________________________________________________________\n"
          ]
        }
      ],
      "source": [
        "lr = 0.0001\n",
        "\n",
        "# 손실 함수 설정\n",
        "loss_function = tf.keras.losses.BinaryCrossentropy(from_logits=True)\n",
        "# 옵티마이저 설정\n",
        "optimizer = tf.keras.optimizers.Adam(learning_rate=lr)\n",
        "# 모델 컴파일\n",
        "model.compile(optimizer=optimizer, loss=loss_function, metrics=['accuracy'])\n",
        "# 모델 요약 확인\n",
        "model.summary()"
      ]
    },
    {
      "cell_type": "code",
      "execution_count": null,
      "metadata": {
        "id": "g2zXgea0aHLs"
      },
      "outputs": [],
      "source": [
        "from tensorflow.python.client import device_lib\n",
        "import os"
      ]
    },
    {
      "cell_type": "code",
      "execution_count": null,
      "metadata": {
        "colab": {
          "base_uri": "https://localhost:8080/"
        },
        "id": "n5-EVHo1dIEI",
        "outputId": "43b81e22-c125-4e21-c4bb-150fc3727c5c"
      },
      "outputs": [
        {
          "name": "stdout",
          "output_type": "stream",
          "text": [
            "[name: \"/device:CPU:0\"\n",
            "device_type: \"CPU\"\n",
            "memory_limit: 268435456\n",
            "locality {\n",
            "}\n",
            "incarnation: 2070353870054471454\n",
            "xla_global_id: -1\n",
            ", name: \"/device:GPU:0\"\n",
            "device_type: \"GPU\"\n",
            "memory_limit: 14626652160\n",
            "locality {\n",
            "  bus_id: 1\n",
            "  links {\n",
            "  }\n",
            "}\n",
            "incarnation: 18027583315537527327\n",
            "physical_device_desc: \"device: 0, name: Tesla T4, pci bus id: 0000:00:04.0, compute capability: 7.5\"\n",
            "xla_global_id: 416903419\n",
            "]\n"
          ]
        }
      ],
      "source": [
        "print(device_lib.list_local_devices())"
      ]
    },
    {
      "cell_type": "code",
      "execution_count": 22,
      "metadata": {
        "colab": {
          "base_uri": "https://localhost:8080/",
          "height": 0
        },
        "id": "HXW8xNTKdQkF",
        "outputId": "1cf7a817-5fc0-4ba2-e5ab-6306ca6e047a"
      },
      "outputs": [
        {
          "name": "stderr",
          "output_type": "stream",
          "text": [
            "/usr/local/lib/python3.10/dist-packages/keras/src/preprocessing/image.py:1862: UserWarning: This ImageDataGenerator specifies `featurewise_center`, but it hasn't been fit on any training data. Fit it first by calling `.fit(numpy_data)`.\n",
            "  warnings.warn(\n",
            "/usr/local/lib/python3.10/dist-packages/keras/src/preprocessing/image.py:1872: UserWarning: This ImageDataGenerator specifies `featurewise_std_normalization`, but it hasn't been fit on any training data. Fit it first by calling `.fit(numpy_data)`.\n",
            "  warnings.warn(\n"
          ]
        },
        {
          "name": "stdout",
          "output_type": "stream",
          "text": [
            "Epoch 1/20\n"
          ]
        },
        {
          "name": "stderr",
          "output_type": "stream",
          "text": [
            "/usr/local/lib/python3.10/dist-packages/keras/src/backend.py:5818: UserWarning: \"`binary_crossentropy` received `from_logits=True`, but the `output` argument was produced by a Sigmoid activation and thus does not represent logits. Was this intended?\n",
            "  output, from_logits = _get_logits(\n"
          ]
        },
        {
          "name": "stdout",
          "output_type": "stream",
          "text": [
            "25/25 [==============================] - 106s 3s/step - loss: 0.6982 - accuracy: 0.5202 - val_loss: 0.6774 - val_accuracy: 0.5780\n",
            "Epoch 2/20\n",
            "25/25 [==============================] - 64s 3s/step - loss: 0.6668 - accuracy: 0.5965 - val_loss: 0.6533 - val_accuracy: 0.6166\n",
            "Epoch 3/20\n",
            "25/25 [==============================] - 64s 3s/step - loss: 0.6422 - accuracy: 0.6549 - val_loss: 0.6310 - val_accuracy: 0.6590\n",
            "Epoch 4/20\n",
            "25/25 [==============================] - 69s 3s/step - loss: 0.6210 - accuracy: 0.6998 - val_loss: 0.6102 - val_accuracy: 0.6724\n",
            "Epoch 5/20\n",
            "25/25 [==============================] - 68s 3s/step - loss: 0.6027 - accuracy: 0.7242 - val_loss: 0.5944 - val_accuracy: 0.7129\n",
            "Epoch 6/20\n",
            "25/25 [==============================] - 62s 2s/step - loss: 0.5847 - accuracy: 0.7453 - val_loss: 0.5785 - val_accuracy: 0.7322\n",
            "Epoch 7/20\n",
            "25/25 [==============================] - 62s 2s/step - loss: 0.5688 - accuracy: 0.7633 - val_loss: 0.5630 - val_accuracy: 0.7360\n",
            "Epoch 8/20\n",
            "25/25 [==============================] - 64s 3s/step - loss: 0.5528 - accuracy: 0.7800 - val_loss: 0.5503 - val_accuracy: 0.7476\n",
            "Epoch 9/20\n",
            "25/25 [==============================] - 62s 2s/step - loss: 0.5384 - accuracy: 0.7870 - val_loss: 0.5356 - val_accuracy: 0.7572\n",
            "Epoch 10/20\n",
            "25/25 [==============================] - 62s 2s/step - loss: 0.5254 - accuracy: 0.7960 - val_loss: 0.5232 - val_accuracy: 0.7726\n",
            "Epoch 11/20\n",
            "25/25 [==============================] - 62s 2s/step - loss: 0.5130 - accuracy: 0.7992 - val_loss: 0.5127 - val_accuracy: 0.7688\n",
            "Epoch 12/20\n",
            "25/25 [==============================] - 63s 3s/step - loss: 0.5014 - accuracy: 0.8140 - val_loss: 0.5030 - val_accuracy: 0.7938\n",
            "Epoch 13/20\n",
            "25/25 [==============================] - 62s 2s/step - loss: 0.4901 - accuracy: 0.8262 - val_loss: 0.4934 - val_accuracy: 0.7861\n",
            "Epoch 14/20\n",
            "25/25 [==============================] - 66s 3s/step - loss: 0.4806 - accuracy: 0.8275 - val_loss: 0.4814 - val_accuracy: 0.8015\n",
            "Epoch 15/20\n",
            "25/25 [==============================] - 63s 3s/step - loss: 0.4716 - accuracy: 0.8287 - val_loss: 0.4736 - val_accuracy: 0.7977\n",
            "Epoch 16/20\n",
            "25/25 [==============================] - 62s 2s/step - loss: 0.4636 - accuracy: 0.8332 - val_loss: 0.4661 - val_accuracy: 0.8073\n",
            "Epoch 17/20\n",
            "25/25 [==============================] - 64s 3s/step - loss: 0.4544 - accuracy: 0.8396 - val_loss: 0.4585 - val_accuracy: 0.8092\n",
            "Epoch 18/20\n",
            "25/25 [==============================] - 63s 2s/step - loss: 0.4471 - accuracy: 0.8461 - val_loss: 0.4510 - val_accuracy: 0.8131\n",
            "Epoch 19/20\n",
            "25/25 [==============================] - 67s 3s/step - loss: 0.4384 - accuracy: 0.8493 - val_loss: 0.4431 - val_accuracy: 0.8150\n",
            "Epoch 20/20\n",
            "25/25 [==============================] - 65s 3s/step - loss: 0.4315 - accuracy: 0.8563 - val_loss: 0.4357 - val_accuracy: 0.8266\n"
          ]
        }
      ],
      "source": [
        "history = model.fit(train_ds, epochs=20,\n",
        "                    validation_data=val_ds)"
      ]
    },
    {
      "cell_type": "code",
      "execution_count": 23,
      "metadata": {
        "id": "9127-wOIfANR"
      },
      "outputs": [],
      "source": [
        "acc = history.history['accuracy']\n",
        "val_acc = history.history['val_accuracy']\n",
        "\n",
        "loss = history.history['loss']\n",
        "val_loss = history.history['val_loss']\n",
        "\n",
        "epochs_range = range(20)"
      ]
    },
    {
      "cell_type": "code",
      "execution_count": 24,
      "metadata": {
        "colab": {
          "base_uri": "https://localhost:8080/",
          "height": 699
        },
        "id": "Tpr9b-TEnvaj",
        "outputId": "618b582c-f2f6-408c-f012-bc02ec7bfcfb"
      },
      "outputs": [
        {
          "data": {
            "image/png": "[encoded data removed]",
            "text/plain": [
              "<Figure size 800x800 with 2 Axes>"
            ]
          },
          "metadata": {},
          "output_type": "display_data"
        }
      ],
      "source": [
        "plt.figure(figsize=(8, 8))\n",
        "plt.subplot(1, 2, 1)\n",
        "plt.plot(epochs_range, acc, label='Training Accuracy')\n",
        "plt.plot(epochs_range, val_acc, label='Validation Accuracy')\n",
        "plt.legend(loc='lower right')\n",
        "plt.ylim(0,1.0)\n",
        "plt.title('Training and Validation Accuracy')\n",
        "\n",
        "plt.subplot(1, 2, 2)\n",
        "plt.plot(epochs_range, loss, label='Training Loss')\n",
        "plt.plot(epochs_range, val_loss, label='Validation Loss')\n",
        "plt.legend(loc='upper right')\n",
        "plt.title('Training and Validation Loss')\n",
        "plt.ylim(0,1)\n",
        "plt.show()"
      ]
    },
    {
      "cell_type": "code",
      "execution_count": 25,
      "metadata": {
        "colab": {
          "base_uri": "https://localhost:8080/",
          "height": 0
        },
        "id": "7fv1XXhsnw7h",
        "outputId": "998dc980-3152-47ff-d533-8ecfbe4422ef"
      },
      "outputs": [
        {
          "name": "stdout",
          "output_type": "stream",
          "text": [
            "9/9 [==============================] - 22s 2s/step - loss: 0.4215 - accuracy: 0.8793\n",
            "Test accuracy: 0.8793103694915771, Test loss: 0.42151743173599243\n"
          ]
        }
      ],
      "source": [
        "test_loss, test_accuracy = model.evaluate(test_ds)\n",
        "print(f'Test accuracy: {test_accuracy}, Test loss: {test_loss}')"
      ]
    },
    {
      "cell_type": "code",
      "execution_count": 26,
      "metadata": {
        "colab": {
          "base_uri": "https://localhost:8080/",
          "height": 677
        },
        "id": "xM_piJOmnzl7",
        "outputId": "a65ef3fb-81c6-4744-f0b6-68a4fce992c3"
      },
      "outputs": [
        {
          "data": {
            "text/html": [
              "\n",
              "  <div id=\"df-e9722fd6-dad1-466b-88c4-1fb3ce09dfe2\" class=\"colab-df-container\">\n",
              "    <div>\n",
              "<style scoped>\n",
              "    .dataframe tbody tr th:only-of-type {\n",
              "        vertical-align: middle;\n",
              "    }\n",
              "\n",
              "    .dataframe tbody tr th {\n",
              "        vertical-align: top;\n",
              "    }\n",
              "\n",
              "    .dataframe thead th {\n",
              "        text-align: right;\n",
              "    }\n",
              "</style>\n",
              "<table border=\"1\" class=\"dataframe\">\n",
              "  <thead>\n",
              "    <tr style=\"text-align: right;\">\n",
              "      <th></th>\n",
              "      <th>loss</th>\n",
              "      <th>accuracy</th>\n",
              "      <th>val_loss</th>\n",
              "      <th>val_accuracy</th>\n",
              "    </tr>\n",
              "  </thead>\n",
              "  <tbody>\n",
              "    <tr>\n",
              "      <th>0</th>\n",
              "      <td>0.698166</td>\n",
              "      <td>0.520205</td>\n",
              "      <td>0.677409</td>\n",
              "      <td>0.578035</td>\n",
              "    </tr>\n",
              "    <tr>\n",
              "      <th>1</th>\n",
              "      <td>0.666802</td>\n",
              "      <td>0.596536</td>\n",
              "      <td>0.653327</td>\n",
              "      <td>0.616570</td>\n",
              "    </tr>\n",
              "    <tr>\n",
              "      <th>2</th>\n",
              "      <td>0.642232</td>\n",
              "      <td>0.654907</td>\n",
              "      <td>0.631002</td>\n",
              "      <td>0.658960</td>\n",
              "    </tr>\n",
              "    <tr>\n",
              "      <th>3</th>\n",
              "      <td>0.621024</td>\n",
              "      <td>0.699808</td>\n",
              "      <td>0.610204</td>\n",
              "      <td>0.672447</td>\n",
              "    </tr>\n",
              "    <tr>\n",
              "      <th>4</th>\n",
              "      <td>0.602725</td>\n",
              "      <td>0.724182</td>\n",
              "      <td>0.594377</td>\n",
              "      <td>0.712909</td>\n",
              "    </tr>\n",
              "    <tr>\n",
              "      <th>5</th>\n",
              "      <td>0.584750</td>\n",
              "      <td>0.745350</td>\n",
              "      <td>0.578488</td>\n",
              "      <td>0.732177</td>\n",
              "    </tr>\n",
              "    <tr>\n",
              "      <th>6</th>\n",
              "      <td>0.568753</td>\n",
              "      <td>0.763310</td>\n",
              "      <td>0.563039</td>\n",
              "      <td>0.736031</td>\n",
              "    </tr>\n",
              "    <tr>\n",
              "      <th>7</th>\n",
              "      <td>0.552792</td>\n",
              "      <td>0.779987</td>\n",
              "      <td>0.550284</td>\n",
              "      <td>0.747591</td>\n",
              "    </tr>\n",
              "    <tr>\n",
              "      <th>8</th>\n",
              "      <td>0.538409</td>\n",
              "      <td>0.787043</td>\n",
              "      <td>0.535556</td>\n",
              "      <td>0.757225</td>\n",
              "    </tr>\n",
              "    <tr>\n",
              "      <th>9</th>\n",
              "      <td>0.525400</td>\n",
              "      <td>0.796023</td>\n",
              "      <td>0.523183</td>\n",
              "      <td>0.772640</td>\n",
              "    </tr>\n",
              "    <tr>\n",
              "      <th>10</th>\n",
              "      <td>0.512989</td>\n",
              "      <td>0.799230</td>\n",
              "      <td>0.512672</td>\n",
              "      <td>0.768786</td>\n",
              "    </tr>\n",
              "    <tr>\n",
              "      <th>11</th>\n",
              "      <td>0.501439</td>\n",
              "      <td>0.813983</td>\n",
              "      <td>0.503021</td>\n",
              "      <td>0.793834</td>\n",
              "    </tr>\n",
              "    <tr>\n",
              "      <th>12</th>\n",
              "      <td>0.490140</td>\n",
              "      <td>0.826171</td>\n",
              "      <td>0.493430</td>\n",
              "      <td>0.786127</td>\n",
              "    </tr>\n",
              "    <tr>\n",
              "      <th>13</th>\n",
              "      <td>0.480555</td>\n",
              "      <td>0.827453</td>\n",
              "      <td>0.481441</td>\n",
              "      <td>0.801541</td>\n",
              "    </tr>\n",
              "    <tr>\n",
              "      <th>14</th>\n",
              "      <td>0.471582</td>\n",
              "      <td>0.828736</td>\n",
              "      <td>0.473561</td>\n",
              "      <td>0.797688</td>\n",
              "    </tr>\n",
              "    <tr>\n",
              "      <th>15</th>\n",
              "      <td>0.463649</td>\n",
              "      <td>0.833226</td>\n",
              "      <td>0.466142</td>\n",
              "      <td>0.807322</td>\n",
              "    </tr>\n",
              "    <tr>\n",
              "      <th>16</th>\n",
              "      <td>0.454379</td>\n",
              "      <td>0.839641</td>\n",
              "      <td>0.458524</td>\n",
              "      <td>0.809249</td>\n",
              "    </tr>\n",
              "    <tr>\n",
              "      <th>17</th>\n",
              "      <td>0.447085</td>\n",
              "      <td>0.846055</td>\n",
              "      <td>0.451040</td>\n",
              "      <td>0.813102</td>\n",
              "    </tr>\n",
              "    <tr>\n",
              "      <th>18</th>\n",
              "      <td>0.438431</td>\n",
              "      <td>0.849262</td>\n",
              "      <td>0.443087</td>\n",
              "      <td>0.815029</td>\n",
              "    </tr>\n",
              "    <tr>\n",
              "      <th>19</th>\n",
              "      <td>0.431484</td>\n",
              "      <td>0.856318</td>\n",
              "      <td>0.435660</td>\n",
              "      <td>0.826590</td>\n",
              "    </tr>\n",
              "  </tbody>\n",
              "</table>\n",
              "</div>\n",
              "    <div class=\"colab-df-buttons\">\n",
              "\n",
              "  <div class=\"colab-df-container\">\n",
              "    <button class=\"colab-df-convert\" onclick=\"convertToInteractive('df-e9722fd6-dad1-466b-88c4-1fb3ce09dfe2')\"\n",
              "            title=\"Convert this dataframe to an interactive table.\"\n",
              "            style=\"display:none;\">\n",
              "\n",
              "  <svg xmlns=\"http://www.w3.org/2000/svg\" height=\"24px\" viewBox=\"0 -960 960 960\">\n",
              "    <path d=\"M120-120v-720h720v720H120Zm60-500h600v-160H180v160Zm220 220h160v-160H400v160Zm0 220h160v-160H400v160ZM180-400h160v-160H180v160Zm440 0h160v-160H620v160ZM180-180h160v-160H180v160Zm440 0h160v-160H620v160Z\"/>\n",
              "  </svg>\n",
              "    </button>\n",
              "\n",
              "  <style>\n",
              "    .colab-df-container {\n",
              "      display:flex;\n",
              "      gap: 12px;\n",
              "    }\n",
              "\n",
              "    .colab-df-convert {\n",
              "      background-color: #E8F0FE;\n",
              "      border: none;\n",
              "      border-radius: 50%;\n",
              "      cursor: pointer;\n",
              "      display: none;\n",
              "      fill: #1967D2;\n",
              "      height: 32px;\n",
              "      padding: 0 0 0 0;\n",
              "      width: 32px;\n",
              "    }\n",
              "\n",
              "    .colab-df-convert:hover {\n",
              "      background-color: #E2EBFA;\n",
              "      box-shadow: 0px 1px 2px rgba(60, 64, 67, 0.3), 0px 1px 3px 1px rgba(60, 64, 67, 0.15);\n",
              "      fill: #174EA6;\n",
              "    }\n",
              "\n",
              "    .colab-df-buttons div {\n",
              "      margin-bottom: 4px;\n",
              "    }\n",
              "\n",
              "    [theme=dark] .colab-df-convert {\n",
              "      background-color: #3B4455;\n",
              "      fill: #D2E3FC;\n",
              "    }\n",
              "\n",
              "    [theme=dark] .colab-df-convert:hover {\n",
              "      background-color: #434B5C;\n",
              "      box-shadow: 0px 1px 3px 1px rgba(0, 0, 0, 0.15);\n",
              "      filter: drop-shadow(0px 1px 2px rgba(0, 0, 0, 0.3));\n",
              "      fill: #FFFFFF;\n",
              "    }\n",
              "  </style>\n",
              "\n",
              "    <script>\n",
              "      const buttonEl =\n",
              "        document.querySelector('#df-e9722fd6-dad1-466b-88c4-1fb3ce09dfe2 button.colab-df-convert');\n",
              "      buttonEl.style.display =\n",
              "        google.colab.kernel.accessAllowed ? 'block' : 'none';\n",
              "\n",
              "      async function convertToInteractive(key) {\n",
              "        const element = document.querySelector('#df-e9722fd6-dad1-466b-88c4-1fb3ce09dfe2');\n",
              "        const dataTable =\n",
              "          await google.colab.kernel.invokeFunction('convertToInteractive',\n",
              "                                                    [key], {});\n",
              "        if (!dataTable) return;\n",
              "\n",
              "        const docLinkHtml = 'Like what you see? Visit the ' +\n",
              "          '<a target=\"_blank\" href=https://colab.research.google.com/notebooks/data_table.ipynb>data table notebook</a>'\n",
              "          + ' to learn more about interactive tables.';\n",
              "        element.innerHTML = '';\n",
              "        dataTable['output_type'] = 'display_data';\n",
              "        await google.colab.output.renderOutput(dataTable, element);\n",
              "        const docLink = document.createElement('div');\n",
              "        docLink.innerHTML = docLinkHtml;\n",
              "        element.appendChild(docLink);\n",
              "      }\n",
              "    </script>\n",
              "  </div>\n",
              "\n",
              "\n",
              "<div id=\"df-69aa4bd5-e669-43ae-824c-855c983f33d5\">\n",
              "  <button class=\"colab-df-quickchart\" onclick=\"quickchart('df-69aa4bd5-e669-43ae-824c-855c983f33d5')\"\n",
              "            title=\"Suggest charts\"\n",
              "            style=\"display:none;\">\n",
              "\n",
              "<svg xmlns=\"http://www.w3.org/2000/svg\" height=\"24px\"viewBox=\"0 0 24 24\"\n",
              "     width=\"24px\">\n",
              "    <g>\n",
              "        <path d=\"M19 3H5c-1.1 0-2 .9-2 2v14c0 1.1.9 2 2 2h14c1.1 0 2-.9 2-2V5c0-1.1-.9-2-2-2zM9 17H7v-7h2v7zm4 0h-2V7h2v10zm4 0h-2v-4h2v4z\"/>\n",
              "    </g>\n",
              "</svg>\n",
              "  </button>\n",
              "\n",
              "<style>\n",
              "  .colab-df-quickchart {\n",
              "      --bg-color: #E8F0FE;\n",
              "      --fill-color: #1967D2;\n",
              "      --hover-bg-color: #E2EBFA;\n",
              "      --hover-fill-color: #174EA6;\n",
              "      --disabled-fill-color: #AAA;\n",
              "      --disabled-bg-color: #DDD;\n",
              "  }\n",
              "\n",
              "  [theme=dark] .colab-df-quickchart {\n",
              "      --bg-color: #3B4455;\n",
              "      --fill-color: #D2E3FC;\n",
              "      --hover-bg-color: #434B5C;\n",
              "      --hover-fill-color: #FFFFFF;\n",
              "      --disabled-bg-color: #3B4455;\n",
              "      --disabled-fill-color: #666;\n",
              "  }\n",
              "\n",
              "  .colab-df-quickchart {\n",
              "    background-color: var(--bg-color);\n",
              "    border: none;\n",
              "    border-radius: 50%;\n",
              "    cursor: pointer;\n",
              "    display: none;\n",
              "    fill: var(--fill-color);\n",
              "    height: 32px;\n",
              "    padding: 0;\n",
              "    width: 32px;\n",
              "  }\n",
              "\n",
              "  .colab-df-quickchart:hover {\n",
              "    background-color: var(--hover-bg-color);\n",
              "    box-shadow: 0 1px 2px rgba(60, 64, 67, 0.3), 0 1px 3px 1px rgba(60, 64, 67, 0.15);\n",
              "    fill: var(--button-hover-fill-color);\n",
              "  }\n",
              "\n",
              "  .colab-df-quickchart-complete:disabled,\n",
              "  .colab-df-quickchart-complete:disabled:hover {\n",
              "    background-color: var(--disabled-bg-color);\n",
              "    fill: var(--disabled-fill-color);\n",
              "    box-shadow: none;\n",
              "  }\n",
              "\n",
              "  .colab-df-spinner {\n",
              "    border: 2px solid var(--fill-color);\n",
              "    border-color: transparent;\n",
              "    border-bottom-color: var(--fill-color);\n",
              "    animation:\n",
              "      spin 1s steps(1) infinite;\n",
              "  }\n",
              "\n",
              "  @keyframes spin {\n",
              "    0% {\n",
              "      border-color: transparent;\n",
              "      border-bottom-color: var(--fill-color);\n",
              "      border-left-color: var(--fill-color);\n",
              "    }\n",
              "    20% {\n",
              "      border-color: transparent;\n",
              "      border-left-color: var(--fill-color);\n",
              "      border-top-color: var(--fill-color);\n",
              "    }\n",
              "    30% {\n",
              "      border-color: transparent;\n",
              "      border-left-color: var(--fill-color);\n",
              "      border-top-color: var(--fill-color);\n",
              "      border-right-color: var(--fill-color);\n",
              "    }\n",
              "    40% {\n",
              "      border-color: transparent;\n",
              "      border-right-color: var(--fill-color);\n",
              "      border-top-color: var(--fill-color);\n",
              "    }\n",
              "    60% {\n",
              "      border-color: transparent;\n",
              "      border-right-color: var(--fill-color);\n",
              "    }\n",
              "    80% {\n",
              "      border-color: transparent;\n",
              "      border-right-color: var(--fill-color);\n",
              "      border-bottom-color: var(--fill-color);\n",
              "    }\n",
              "    90% {\n",
              "      border-color: transparent;\n",
              "      border-bottom-color: var(--fill-color);\n",
              "    }\n",
              "  }\n",
              "</style>\n",
              "\n",
              "  <script>\n",
              "    async function quickchart(key) {\n",
              "      const quickchartButtonEl =\n",
              "        document.querySelector('#' + key + ' button');\n",
              "      quickchartButtonEl.disabled = true;  // To prevent multiple clicks.\n",
              "      quickchartButtonEl.classList.add('colab-df-spinner');\n",
              "      try {\n",
              "        const charts = await google.colab.kernel.invokeFunction(\n",
              "            'suggestCharts', [key], {});\n",
              "      } catch (error) {\n",
              "        console.error('Error during call to suggestCharts:', error);\n",
              "      }\n",
              "      quickchartButtonEl.classList.remove('colab-df-spinner');\n",
              "      quickchartButtonEl.classList.add('colab-df-quickchart-complete');\n",
              "    }\n",
              "    (() => {\n",
              "      let quickchartButtonEl =\n",
              "        document.querySelector('#df-69aa4bd5-e669-43ae-824c-855c983f33d5 button');\n",
              "      quickchartButtonEl.style.display =\n",
              "        google.colab.kernel.accessAllowed ? 'block' : 'none';\n",
              "    })();\n",
              "  </script>\n",
              "</div>\n",
              "\n",
              "    </div>\n",
              "  </div>\n"
            ],
            "text/plain": [
              "        loss  accuracy  val_loss  val_accuracy\n",
              "0   0.698166  0.520205  0.677409      0.578035\n",
              "1   0.666802  0.596536  0.653327      0.616570\n",
              "2   0.642232  0.654907  0.631002      0.658960\n",
              "3   0.621024  0.699808  0.610204      0.672447\n",
              "4   0.602725  0.724182  0.594377      0.712909\n",
              "5   0.584750  0.745350  0.578488      0.732177\n",
              "6   0.568753  0.763310  0.563039      0.736031\n",
              "7   0.552792  0.779987  0.550284      0.747591\n",
              "8   0.538409  0.787043  0.535556      0.757225\n",
              "9   0.525400  0.796023  0.523183      0.772640\n",
              "10  0.512989  0.799230  0.512672      0.768786\n",
              "11  0.501439  0.813983  0.503021      0.793834\n",
              "12  0.490140  0.826171  0.493430      0.786127\n",
              "13  0.480555  0.827453  0.481441      0.801541\n",
              "14  0.471582  0.828736  0.473561      0.797688\n",
              "15  0.463649  0.833226  0.466142      0.807322\n",
              "16  0.454379  0.839641  0.458524      0.809249\n",
              "17  0.447085  0.846055  0.451040      0.813102\n",
              "18  0.438431  0.849262  0.443087      0.815029\n",
              "19  0.431484  0.856318  0.435660      0.826590"
            ]
          },
          "execution_count": 26,
          "metadata": {},
          "output_type": "execute_result"
        }
      ],
      "source": [
        "pd.DataFrame(history.history)"
      ]
    },
    {
      "cell_type": "code",
      "execution_count": 27,
      "metadata": {
        "colab": {
          "base_uri": "https://localhost:8080/",
          "height": 448
        },
        "id": "gDOv_5Az8L5s",
        "outputId": "45573a58-6d56-40b9-89e2-f533277c64cb"
      },
      "outputs": [
        {
          "data": {
            "text/plain": [
              "<Axes: >"
            ]
          },
          "execution_count": 27,
          "metadata": {},
          "output_type": "execute_result"
        },
        {
          "data": {
            "image/png": "[encoded data removed]",
            "text/plain": [
              "<Figure size 640x480 with 1 Axes>"
            ]
          },
          "metadata": {},
          "output_type": "display_data"
        }
      ],
      "source": [
        "t=pd.DataFrame(history.history)\n",
        "t.plot()"
      ]
    },
    {
      "cell_type": "code",
      "execution_count": null,
      "metadata": {
        "id": "PKJ5B6J5TM3Y"
      },
      "outputs": [],
      "source": []
    }
  ],
  "metadata": {
    "accelerator": "GPU",
    "colab": {
      "gpuType": "T4",
      "machine_shape": "hm",
      "provenance": []
    },
    "kernelspec": {
      "display_name": "Python 3",
      "name": "python3"
    },
    "language_info": {
      "name": "python"
    }
  },
  "nbformat": 4,
  "nbformat_minor": 0
}
